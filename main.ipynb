{
 "cells": [
  {
   "cell_type": "code",
   "execution_count": 1,
   "id": "7f7b7460",
   "metadata": {},
   "outputs": [],
   "source": [
    "import pandas as pd\n",
    "import numpy as np\n",
    "\n",
    "import matplotlib.pyplot as plt\n",
    "import statsmodels.api as sm\n",
    "from pandas.tseries.offsets import *\n",
    "from scipy.optimize import minimize\n",
    "\n",
    "from functions_asset_pricing import *\n",
    "from functions_parametric_portfolio import *\n",
    "from sklearn.linear_model import LinearRegression\n",
    "\n",
    "import warnings\n",
    "warnings.filterwarnings(\"ignore\")"
   ]
  },
  {
   "cell_type": "code",
   "execution_count": null,
   "id": "458f469d",
   "metadata": {},
   "outputs": [],
   "source": []
  },
  {
   "cell_type": "markdown",
   "id": "6e0045d7",
   "metadata": {},
   "source": [
    "# 1. Data clean"
   ]
  },
  {
   "cell_type": "code",
   "execution_count": 2,
   "id": "991e1a7b",
   "metadata": {},
   "outputs": [
    {
     "name": "stdout",
     "output_type": "stream",
     "text": [
      "0\n"
     ]
    }
   ],
   "source": [
    "# import data\n",
    "data = pd.read_csv('data.csv')\n",
    "\n",
    "# datetime\n",
    "data['date'] = pd.to_datetime(data['date'])\n",
    "\n",
    "# there is no missing data\n",
    "print(data.isna().sum().sum())"
   ]
  },
  {
   "cell_type": "code",
   "execution_count": 3,
   "id": "78fa4465",
   "metadata": {},
   "outputs": [],
   "source": [
    "############\n",
    "# calculate daily return\n",
    "############\n",
    "# sort by ticker and date\n",
    "data = data.sort_values(by=['ticker','date'])\n",
    "\n",
    "# get one-day lagged last\n",
    "data = get_char_lag(data=data, stock_name='ticker', date_name='date', var_name='last')\n",
    "\n",
    "# calculate returns\n",
    "temp = data.groupby(['date','ticker']).apply(lambda x: (x['last']-x['last_lag'])/x['last_lag'] )\n",
    "temp = temp.reset_index(drop=False)\n",
    "temp = temp.rename(columns={0:'ret'})\n",
    "\n",
    "# merge returns\n",
    "data = pd.merge(data, temp[['date','ticker','ret']], how='left', on=['date','ticker'])"
   ]
  },
  {
   "cell_type": "code",
   "execution_count": 4,
   "id": "0ec50ec0",
   "metadata": {},
   "outputs": [],
   "source": [
    "############\n",
    "# create monthly dataframe\n",
    "############\n",
    "# get monthend date\n",
    "data['date_m'] = data['date'] + MonthEnd(0)\n",
    "\n",
    "# get the last trading day of that month\n",
    "temp = data.groupby(['ticker','date_m'])['date'].max()\n",
    "temp = temp.reset_index(drop=False)\n",
    "temp = temp.rename(columns={'date':'date_mt'})\n",
    "\n",
    "# merge last trading day\n",
    "data = pd.merge(data, temp, how='left', on=['ticker','date_m'])\n",
    "\n",
    "# create monthly dataframe\n",
    "df = data[data['date']==data['date_mt']][['ticker','date','date_m']]\n",
    "df = df.reset_index(drop=True)\n",
    "\n",
    "# calculate monthly returns\n",
    "temp = data[data['ret'].notna()]\n",
    "temp = temp.groupby(['ticker','date_m']).apply(lambda x: np.prod(1+x['ret'])-1)\n",
    "temp = temp.reset_index(drop=False)\n",
    "temp = temp.rename(columns={0:'ret'})\n",
    "\n",
    "# merge monthly returns\n",
    "df = pd.merge(df, temp, how='left', on=['ticker','date_m'])"
   ]
  },
  {
   "cell_type": "code",
   "execution_count": null,
   "id": "80bab3d6",
   "metadata": {},
   "outputs": [],
   "source": []
  },
  {
   "cell_type": "markdown",
   "id": "205be7bd",
   "metadata": {},
   "source": [
    "# 2. Stock characteristics"
   ]
  },
  {
   "cell_type": "code",
   "execution_count": 5,
   "id": "fae1b777",
   "metadata": {},
   "outputs": [],
   "source": [
    "############\n",
    "# Dollar volume (dolvol)\n",
    "############\n",
    "# calcute daily dollar volume\n",
    "data['dolvol'] = data['last']*data['volume']\n",
    "\n",
    "# calcute monthly dollar volume\n",
    "\n",
    "temp = data.groupby(['ticker','date_m'])['dolvol'].sum()\n",
    "temp = temp.reset_index(drop=False)\n",
    "\n",
    "# merge monthly dollar volume\n",
    "df = pd.merge(df, temp, how='left', on=['ticker','date_m'])\n",
    "\n",
    "############\n",
    "# CAPM: beta (beta) and iyosyncratic risk (rvar_capm)\n",
    "############\n",
    "# create market return as the dolvol-weighted sum of individual stock returns\n",
    "# this an approximate for market return\n",
    "temp = df.groupby('date').apply(lambda x: np.sum(x['ret']*x['dolvol']/np.sum(x['dolvol'])) )\n",
    "temp = temp.reset_index(drop=False)\n",
    "temp = temp.rename(columns={0:'mkt'})\n",
    "\n",
    "# merge market return\n",
    "df = pd.merge(df, temp, how='left', on=['date'])\n",
    "\n",
    "# riskfree rate=0\n",
    "df['rf'] = 0"
   ]
  },
  {
   "cell_type": "code",
   "execution_count": 6,
   "id": "26bd1035",
   "metadata": {
    "scrolled": true
   },
   "outputs": [],
   "source": [
    "df = get_beta(data=df, stock_name='ticker', date_name='date', market_return='mkt', stock_return='ret', rolling_length=15)"
   ]
  },
  {
   "cell_type": "code",
   "execution_count": 7,
   "id": "0cdc6e21",
   "metadata": {},
   "outputs": [],
   "source": [
    "############\n",
    "# Momentum: reversal (mom1m) and momentum (mom12m)\n",
    "############\n",
    "# get lagged monthly return\n",
    "df = get_char_lag(data=df, stock_name='ticker', date_name='date', var_name='ret')\n",
    "\n",
    "# rename reversal\n",
    "df = df.rename(columns={'ret_lag':'mom1m'})\n",
    "\n",
    "# calculate momentum\n",
    "df = get_mom12m(data=df,date_name='date',stock_name='ticker',ret_name='ret')"
   ]
  },
  {
   "cell_type": "code",
   "execution_count": 8,
   "id": "9c6f9efe",
   "metadata": {},
   "outputs": [],
   "source": [
    "############\n",
    "# get ranking chars\n",
    "############\n",
    "for char in ['dolvol','beta','rvar_capm','mom1m','mom12m']:\n",
    "    df = get_rank_char(data=df, var_name=char, date_name='date')\n",
    "    \n",
    "chars = ['rank_dolvol','rank_beta','rank_rvar_capm','rank_mom1m','rank_mom12m']"
   ]
  },
  {
   "cell_type": "code",
   "execution_count": 9,
   "id": "072f53db",
   "metadata": {},
   "outputs": [],
   "source": [
    "df = df[df['beta'].notna()]"
   ]
  },
  {
   "cell_type": "code",
   "execution_count": null,
   "id": "fcef1032",
   "metadata": {},
   "outputs": [],
   "source": []
  },
  {
   "cell_type": "markdown",
   "id": "479afa04",
   "metadata": {},
   "source": [
    "# 3. Parametric Portfolio"
   ]
  },
  {
   "cell_type": "code",
   "execution_count": 10,
   "id": "17bc45fb",
   "metadata": {},
   "outputs": [],
   "source": [
    "stock_name = 'ticker'\n",
    "date_name = 'date_m'\n",
    "return_name = 'ret'\n",
    "\n",
    "frequency = 'monthly'\n",
    "\n",
    "#industry_name = 'ffi49'\n",
    "rolling_window = 12\n",
    "\n",
    "gamma = 4\n",
    "\n",
    "weight_winsorize = False\n",
    "industry_name = []\n",
    "\n",
    "chars = ['rank_dolvol','rank_beta','rank_rvar_capm','rank_mom1m','rank_mom12m']\n",
    "\n",
    "vars_keep = ['dolvol']"
   ]
  },
  {
   "cell_type": "code",
   "execution_count": 11,
   "id": "dd705313",
   "metadata": {},
   "outputs": [],
   "source": [
    "gamma = 4\n",
    "df_gamma4 = BPR_portfolio(df, stock_name, date_name, return_name, frequency, industry_name, rolling_window, gamma, weight_winsorize, chars, vars_keep)\n",
    "\n",
    "gamma = 6\n",
    "df_gamma6 = BPR_portfolio(df, stock_name, date_name, return_name, frequency, industry_name, rolling_window, gamma, weight_winsorize, chars, vars_keep)\n",
    "\n",
    "gamma = 8\n",
    "df_gamma8 = BPR_portfolio(df, stock_name, date_name, return_name, frequency, industry_name, rolling_window, gamma, weight_winsorize, chars, vars_keep)"
   ]
  },
  {
   "cell_type": "code",
   "execution_count": null,
   "id": "98e7d5a3",
   "metadata": {},
   "outputs": [],
   "source": []
  },
  {
   "cell_type": "markdown",
   "id": "88c6896a",
   "metadata": {},
   "source": [
    "# 4. Portfolio performance"
   ]
  },
  {
   "cell_type": "code",
   "execution_count": 12,
   "id": "0138f0ce",
   "metadata": {},
   "outputs": [],
   "source": [
    "chars_name = chars\n",
    "date_name = 'date_m'\n",
    "rolling_window = 12\n",
    "\n",
    "df = df_gamma6\n",
    "port_chars_gamma6 = get_portfolio_chars(df,chars_name,date_name,rolling_window)"
   ]
  },
  {
   "cell_type": "code",
   "execution_count": 13,
   "id": "5b1be688",
   "metadata": {},
   "outputs": [
    {
     "data": {
      "image/png": "[encoded data removed]",
      "text/plain": [
       "<Figure size 288x158.4 with 1 Axes>"
      ]
     },
     "metadata": {
      "needs_background": "light"
     },
     "output_type": "display_data"
    },
    {
     "data": {
      "image/png": "[encoded data removed]",
      "text/plain": [
       "<Figure size 288x158.4 with 1 Axes>"
      ]
     },
     "metadata": {
      "needs_background": "light"
     },
     "output_type": "display_data"
    },
    {
     "data": {
      "image/png": "[encoded data removed]",
      "text/plain": [
       "<Figure size 288x158.4 with 1 Axes>"
      ]
     },
     "metadata": {
      "needs_background": "light"
     },
     "output_type": "display_data"
    },
    {
     "data": {
      "image/png": "[encoded data removed]",
      "text/plain": [
       "<Figure size 288x158.4 with 1 Axes>"
      ]
     },
     "metadata": {
      "needs_background": "light"
     },
     "output_type": "display_data"
    },
    {
     "data": {
      "image/png": "[encoded data removed]",
      "text/plain": [
       "<Figure size 288x158.4 with 1 Axes>"
      ]
     },
     "metadata": {
      "needs_background": "light"
     },
     "output_type": "display_data"
    }
   ],
   "source": [
    "# plot portfolio characteristics\n",
    "for char in chars:\n",
    "    fig, ax1 = plt.subplots(figsize=(4,2.2))\n",
    "    plt.plot(port_chars_gamma6[char].rolling(3).mean())\n",
    "    ax1.axhline(y=0,color='grey',linewidth=0.8,linestyle='--')\n",
    "    \n",
    "    plt.xlim(min(port_chars_gamma6.index),max(port_chars_gamma6.index))\n",
    "    plt.title(char)\n",
    "    ax1.xaxis.set_tick_params(labelsize=8)\n",
    "    plt.show()\n",
    "    fig.savefig('Figure_port_chars_'+char+'.pdf', format=\"pdf\", bbox_inches='tight', frameon=False)"
   ]
  },
  {
   "cell_type": "code",
   "execution_count": 14,
   "id": "c9ab2e54",
   "metadata": {},
   "outputs": [
    {
     "name": "stdout",
     "output_type": "stream",
     "text": [
      "                      gamma=4  gamma=6  gamma=8    1/N\n",
      "theta rank_dolvol       0.000    0.000    0.000    NaN\n",
      "theta rank_beta        -2.202   -2.205   -2.258    NaN\n",
      "theta rank_rvar_capm    2.537    2.248    1.584    NaN\n",
      "theta rank_mom1m       -1.129   -1.507   -1.519    NaN\n",
      "theta rank_mom12m       3.506    3.318    2.778    NaN\n",
      "|w|*100                 1.190    1.139    1.028  0.527\n",
      "max w*100               3.505    3.302    2.778    NaN\n",
      "min w*100              -2.347   -2.178   -1.785    NaN\n"
     ]
    }
   ],
   "source": [
    "# port = port_return\n",
    "date_name = 'date_m'\n",
    "port_name = 'w_raw_normalize'\n",
    "benchmark_portfolio_name = '1/N'\n",
    "benchmark_portfolio = False\n",
    "chars_name = chars\n",
    "\n",
    "# create portfolio performance evaluation table\n",
    "df = df_gamma4\n",
    "port_column_name = 'gamma=4'\n",
    "table = get_weights_properties(df, date_name, port_name, port_column_name, benchmark_portfolio, benchmark_portfolio_name, chars_name)\n",
    "\n",
    "df = df_gamma6\n",
    "port_column_name = 'gamma=6'\n",
    "table_temp = get_weights_properties(df, date_name, port_name, port_column_name, benchmark_portfolio, benchmark_portfolio_name, chars_name)\n",
    "table = pd.merge(table, table_temp, how='left', left_index=True, right_index=True)\n",
    "\n",
    "df = df_gamma8\n",
    "port_column_name = 'gamma=8'\n",
    "benchmark_portfolio = True\n",
    "table_temp = get_weights_properties(df, date_name, port_name, port_column_name, benchmark_portfolio, benchmark_portfolio_name, chars_name)\n",
    "table = pd.merge(table, table_temp, how='left', left_index=True, right_index=True)\n",
    "\n",
    "# print tables\n",
    "print(table)"
   ]
  },
  {
   "cell_type": "code",
   "execution_count": 15,
   "id": "925600a5",
   "metadata": {},
   "outputs": [],
   "source": [
    "weight_name = 'w_raw_normalize'\n",
    "date_name = 'date_m'\n",
    "stock_name = 'ticker'\n",
    " \n",
    "port_return_gamma4 = get_portfolio(df_gamma4, weight_name, date_name, stock_name, return_name, rolling_window)\n",
    "port_return_gamma6 = get_portfolio(df_gamma6, weight_name, date_name, stock_name, return_name, rolling_window)\n",
    "port_return_gamma8 = get_portfolio(df_gamma8, weight_name, date_name, stock_name, return_name, rolling_window)"
   ]
  },
  {
   "cell_type": "code",
   "execution_count": 16,
   "id": "efaffbd2",
   "metadata": {},
   "outputs": [
    {
     "data": {
      "image/png": "[encoded data removed]",
      "text/plain": [
       "<Figure size 360x216 with 1 Axes>"
      ]
     },
     "metadata": {
      "needs_background": "light"
     },
     "output_type": "display_data"
    }
   ],
   "source": [
    "# plot cumulative returns\n",
    "fig, ax1 = plt.subplots(figsize=(5,3))\n",
    "\n",
    "plt.plot(port_return_gamma4[['ret_cum']], label='Parametric portfolio ($\\gamma$=4)')\n",
    "plt.plot(port_return_gamma6[['ret_cum']], label='Parametric portfolio ($\\gamma$=6)')\n",
    "plt.plot(port_return_gamma8[['ret_cum']], label='Parametric portfolio ($\\gamma$=8)')\n",
    "plt.plot(port_return_gamma4[['ret_market_cum']], label='1/N', color='black',linestyle='--')\n",
    "\n",
    "plt.xlim(min(port_return_gamma4.index),max(port_return_gamma4.index) )\n",
    "plt.ylabel('Cumulative returns')\n",
    "plt.legend(frameon=False)\n",
    "plt.show()\n",
    "\n",
    "# save figures\n",
    "fig.savefig('Figure_cum_ret.pdf', format=\"pdf\", bbox_inches='tight', frameon=False)"
   ]
  },
  {
   "cell_type": "code",
   "execution_count": 17,
   "id": "2809f1ea",
   "metadata": {},
   "outputs": [
    {
     "name": "stdout",
     "output_type": "stream",
     "text": [
      "                     gamma=4  gamma=6  gamma=8     1/N\n",
      "Average returns        0.011    0.011    0.012   0.007\n",
      "Std. returns           0.069    0.068    0.068   0.057\n",
      "Sharpe ratio           0.162    0.164    0.171   0.128\n",
      "Alpha                  0.007    0.007    0.007     NaN\n",
      "Beta                   0.600    0.598    0.608     NaN\n",
      "Std. CAPM residuals    0.059    0.058    0.058     NaN\n",
      "Information ratio      0.060    0.061    0.069     NaN\n",
      "Observations          72.000   72.000   72.000  72.000\n"
     ]
    }
   ],
   "source": [
    "# port = port_return\n",
    "port_name = 'ret'\n",
    "benchmark_name = 'ret_market'\n",
    "rf_name = 'rf'\n",
    "benchmark_portfolio = False\n",
    "benchmark_portfolio_name = '1/N'\n",
    "\n",
    "# create portfolio performance evaluation table\n",
    "port_return_gamma4['rf'] = 0\n",
    "port = port_return_gamma4\n",
    "port_column_name = 'gamma=4'\n",
    "table = portfolio_evaluation(port, port_name, benchmark_name, rf_name, port_column_name, benchmark_portfolio, benchmark_portfolio_name)\n",
    "\n",
    "port_return_gamma6['rf'] = 0\n",
    "port = port_return_gamma6\n",
    "port_column_name = 'gamma=6'\n",
    "table_temp = portfolio_evaluation(port, port_name, benchmark_name, rf_name, port_column_name, benchmark_portfolio, benchmark_portfolio_name)\n",
    "table = pd.merge(table, table_temp, how='left', left_index=True, right_index=True)\n",
    "\n",
    "port_return_gamma8['rf'] = 0\n",
    "port = port_return_gamma8\n",
    "port_column_name = 'gamma=8'\n",
    "benchmark_portfolio = True\n",
    "table_temp = portfolio_evaluation(port, port_name, benchmark_name, rf_name, port_column_name, benchmark_portfolio, benchmark_portfolio_name)\n",
    "table = pd.merge(table, table_temp, how='left', left_index=True, right_index=True)\n",
    "\n",
    "# print tables\n",
    "print(table)"
   ]
  },
  {
   "cell_type": "code",
   "execution_count": null,
   "id": "b154e9be",
   "metadata": {},
   "outputs": [],
   "source": []
  },
  {
   "cell_type": "markdown",
   "id": "1d72de5b",
   "metadata": {},
   "source": [
    "# 5. Extensions: shortsell constraint"
   ]
  },
  {
   "cell_type": "code",
   "execution_count": 18,
   "id": "72a8e897",
   "metadata": {},
   "outputs": [],
   "source": [
    "# get No-short-sale constrain weights\n",
    "weight_name = 'w_raw'\n",
    "date_name = 'date_m'\n",
    "\n",
    "df = df_gamma4\n",
    "df_gamma4 = get_weights_short(df, weight_name, date_name)\n",
    "\n",
    "df = df_gamma6\n",
    "df_gamma6 = get_weights_short(df, weight_name, date_name)\n",
    "\n",
    "df = df_gamma8\n",
    "df_gamma8 = get_weights_short(df, weight_name, date_name)"
   ]
  },
  {
   "cell_type": "code",
   "execution_count": 19,
   "id": "113aaf2c",
   "metadata": {},
   "outputs": [],
   "source": [
    "weight_name = 'w_short_normalize'\n",
    "date_name = 'date_m'\n",
    "stock_name = 'ticker'\n",
    "\n",
    "port_return_gamma4_short = get_portfolio(df_gamma4,weight_name,date_name,stock_name, return_name, rolling_window)\n",
    "port_return_gamma6_short = get_portfolio(df_gamma6,weight_name,date_name,stock_name, return_name, rolling_window)\n",
    "port_return_gamma8_short = get_portfolio(df_gamma8,weight_name,date_name,stock_name, return_name, rolling_window)\n",
    "\n",
    "port_return_gamma4_short = port_return_gamma4_short.rename(columns={'ret':'ret_short','ret_cum':'ret_cum_short'})\n",
    "port_return_gamma6_short = port_return_gamma6_short.rename(columns={'ret':'ret_short','ret_cum':'ret_cum_short'})\n",
    "port_return_gamma8_short = port_return_gamma8_short.rename(columns={'ret':'ret_short','ret_cum':'ret_cum_short'})"
   ]
  },
  {
   "cell_type": "code",
   "execution_count": 20,
   "id": "675a6b7e",
   "metadata": {},
   "outputs": [],
   "source": [
    "port_return_gamma4 = pd.merge(port_return_gamma4, port_return_gamma4_short[['ret_short','ret_cum_short']], how='left', left_index=True, right_index=True)\n",
    "port_return_gamma6 = pd.merge(port_return_gamma6, port_return_gamma6_short[['ret_short','ret_cum_short']], how='left', left_index=True, right_index=True)\n",
    "port_return_gamma8 = pd.merge(port_return_gamma8, port_return_gamma8_short[['ret_short','ret_cum_short']], how='left', left_index=True, right_index=True)"
   ]
  },
  {
   "cell_type": "code",
   "execution_count": 21,
   "id": "a42b96ed",
   "metadata": {},
   "outputs": [
    {
     "name": "stdout",
     "output_type": "stream",
     "text": [
      "                      gamma=4  gamma=8  gamma=4 (nonshort)  gamma=8 (nonshort)\n",
      "theta rank_dolvol       0.000    0.000               0.000               0.000\n",
      "theta rank_beta        -2.202   -2.258              -2.202              -2.258\n",
      "theta rank_rvar_capm    2.537    1.584               2.537               1.584\n",
      "theta rank_mom1m       -1.129   -1.519              -1.129              -1.519\n",
      "theta rank_mom12m       3.506    2.778               3.506               2.778\n",
      "|w|*100                 1.190    1.028               0.452               0.452\n",
      "max w*100               3.505    2.778               1.740               1.433\n",
      "min w*100              -2.347   -1.785               0.106               0.182\n"
     ]
    }
   ],
   "source": [
    "# port = port_return\n",
    "date_name = 'date_m'\n",
    "port_name = 'w_raw_normalize'\n",
    "benchmark_portfolio_name = '1/N'\n",
    "benchmark_portfolio = False\n",
    "\n",
    "# create portfolio performance evaluation table\n",
    "df = df_gamma4\n",
    "port_column_name = 'gamma=4'\n",
    "table = get_weights_properties(df, date_name, port_name, port_column_name, benchmark_portfolio, benchmark_portfolio_name, chars_name)\n",
    "\n",
    "df = df_gamma8\n",
    "port_column_name = 'gamma=8'\n",
    "table_temp = get_weights_properties(df, date_name, port_name, port_column_name, benchmark_portfolio, benchmark_portfolio_name, chars_name)\n",
    "table = pd.merge(table, table_temp, how='left', left_index=True, right_index=True)\n",
    "\n",
    "# short\n",
    "port_name = 'w_short_normalize'\n",
    "df = df_gamma4\n",
    "port_column_name = 'gamma=4 (nonshort)'\n",
    "table_temp = get_weights_properties(df, date_name, port_name, port_column_name, benchmark_portfolio, benchmark_portfolio_name, chars_name)\n",
    "table = pd.merge(table, table_temp, how='left', left_index=True, right_index=True)\n",
    "\n",
    "df = df_gamma8\n",
    "port_column_name = 'gamma=8 (nonshort)'\n",
    "#benchmark_portfolio = True\n",
    "table_temp = get_weights_properties(df, date_name, port_name, port_column_name, benchmark_portfolio, benchmark_portfolio_name, chars_name)\n",
    "table = pd.merge(table, table_temp, how='left', left_index=True, right_index=True)\n",
    "\n",
    "# print tables\n",
    "print(table)"
   ]
  },
  {
   "cell_type": "code",
   "execution_count": 22,
   "id": "98c095ef",
   "metadata": {},
   "outputs": [
    {
     "name": "stdout",
     "output_type": "stream",
     "text": [
      "                     gamma=4  gamma=8  gamma=4 (nonshort)  gamma=8 (nonshort)\n",
      "Average returns        0.011    0.012               0.008               0.008\n",
      "Std. returns           0.069    0.068               0.054               0.054\n",
      "Sharpe ratio           0.162    0.171               0.145               0.143\n",
      "Alpha                  0.007    0.007               0.001               0.001\n",
      "Beta                   0.600    0.608               0.902               0.906\n",
      "Std. CAPM residuals    0.059    0.058               0.017               0.016\n",
      "Information ratio      0.060    0.069               0.032               0.027\n",
      "Observations          72.000   72.000              72.000              72.000\n"
     ]
    }
   ],
   "source": [
    "# port = port_return\n",
    "port_name = 'ret'\n",
    "benchmark_name = 'ret_market'\n",
    "rf_name = 'rf'\n",
    "benchmark_portfolio = False\n",
    "benchmark_portfolio_name = '1/N'\n",
    "\n",
    "# create portfolio performance evaluation table\n",
    "port_return_gamma4['rf'] = 0\n",
    "port = port_return_gamma4\n",
    "port_column_name = 'gamma=4'\n",
    "table = portfolio_evaluation(port, port_name, benchmark_name, rf_name, port_column_name, benchmark_portfolio, benchmark_portfolio_name)\n",
    "\n",
    "port_return_gamma8['rf'] = 0\n",
    "port = port_return_gamma8\n",
    "port_column_name = 'gamma=8'\n",
    "#benchmark_portfolio = True\n",
    "table_temp = portfolio_evaluation(port, port_name, benchmark_name, rf_name, port_column_name, benchmark_portfolio, benchmark_portfolio_name)\n",
    "table = pd.merge(table, table_temp, how='left', left_index=True, right_index=True)\n",
    "\n",
    "# short\n",
    "port_name = 'ret_short'\n",
    "port_return_gamma4['rf'] = 0\n",
    "port = port_return_gamma4\n",
    "port_column_name = 'gamma=4 (nonshort)'\n",
    "table_temp = portfolio_evaluation(port, port_name, benchmark_name, rf_name, port_column_name, benchmark_portfolio, benchmark_portfolio_name)\n",
    "table = pd.merge(table, table_temp, how='left', left_index=True, right_index=True)\n",
    "\n",
    "port_return_gamma8['rf'] = 0\n",
    "port = port_return_gamma8\n",
    "port_column_name = 'gamma=8 (nonshort)'\n",
    "#benchmark_portfolio = True\n",
    "table_temp = portfolio_evaluation(port, port_name, benchmark_name, rf_name, port_column_name, benchmark_portfolio, benchmark_portfolio_name)\n",
    "table = pd.merge(table, table_temp, how='left', left_index=True, right_index=True)\n",
    "\n",
    "# print tables\n",
    "print(table)"
   ]
  },
  {
   "cell_type": "code",
   "execution_count": null,
   "id": "f58c938a",
   "metadata": {},
   "outputs": [],
   "source": []
  },
  {
   "cell_type": "markdown",
   "id": "c355b2d7",
   "metadata": {},
   "source": [
    "# 5. Extensions: transaction cost "
   ]
  },
  {
   "cell_type": "code",
   "execution_count": 23,
   "id": "3c09583b",
   "metadata": {},
   "outputs": [],
   "source": [
    "weight_name = 'w_raw_normalize'\n",
    "stock_name = 'ticker'\n",
    "date_name = 'date_m'\n",
    "me_name = 'dolvol'\n",
    "port_name = 'ret'\n",
    "\n",
    "df = df_gamma4\n",
    "df['dolvol'] = np.log(df['dolvol'])\n",
    "port = port_return_gamma4\n",
    "df_gamma4, port_return_gamma4 = get_portfolio_transaction_cost(df, port, weight_name, stock_name, date_name, me_name, port_name)\n",
    "\n",
    "df = df_gamma6\n",
    "df['dolvol'] = np.log(df['dolvol'])\n",
    "port = port_return_gamma6\n",
    "df_gamma6, port_return_gamma6 = get_portfolio_transaction_cost(df, port, weight_name, stock_name, date_name, me_name, port_name)\n",
    "\n",
    "df = df_gamma8\n",
    "df['dolvol'] = np.log(df['dolvol'])\n",
    "port = port_return_gamma8\n",
    "df_gamma8, port_return_gamma8 = get_portfolio_transaction_cost(df, port, weight_name, stock_name, date_name, me_name, port_name)"
   ]
  },
  {
   "cell_type": "code",
   "execution_count": 24,
   "id": "583aad16",
   "metadata": {},
   "outputs": [
    {
     "name": "stdout",
     "output_type": "stream",
     "text": [
      "                     gamma=4  gamma=8  gamma=4 (with tc.)  gamma=8 (with tc.)\n",
      "Average returns        0.011    0.012               0.003               0.006\n",
      "Std. returns           0.069    0.068               0.068               0.067\n",
      "Sharpe ratio           0.162    0.171               0.045               0.084\n",
      "Alpha                  0.007    0.007              -0.001               0.001\n",
      "Beta                   0.600    0.608               0.611               0.619\n",
      "Std. CAPM residuals    0.059    0.058               0.058               0.057\n",
      "Information ratio      0.060    0.069              -0.067              -0.026\n",
      "Observations          72.000   72.000              72.000              72.000\n"
     ]
    }
   ],
   "source": [
    "# port = port_return\n",
    "port_name = 'ret'\n",
    "benchmark_name = 'ret_market'\n",
    "rf_name = 'rf'\n",
    "benchmark_portfolio = False\n",
    "benchmark_portfolio_name = '1/N'\n",
    "\n",
    "# create portfolio performance evaluation table\n",
    "port_return_gamma4['rf'] = 0\n",
    "port = port_return_gamma4\n",
    "port_column_name = 'gamma=4'\n",
    "table = portfolio_evaluation(port, port_name, benchmark_name, rf_name, port_column_name, benchmark_portfolio, benchmark_portfolio_name)\n",
    "\n",
    "port_return_gamma8['rf'] = 0\n",
    "port = port_return_gamma8\n",
    "port_column_name = 'gamma=8'\n",
    "#benchmark_portfolio = True\n",
    "table_temp = portfolio_evaluation(port, port_name, benchmark_name, rf_name, port_column_name, benchmark_portfolio, benchmark_portfolio_name)\n",
    "table = pd.merge(table, table_temp, how='left', left_index=True, right_index=True)\n",
    "\n",
    "# short\n",
    "port_name = 'ret_tc'\n",
    "port_return_gamma4['rf'] = 0\n",
    "port = port_return_gamma4\n",
    "port_column_name = 'gamma=4 (with tc.)'\n",
    "table_temp = portfolio_evaluation(port, port_name, benchmark_name, rf_name, port_column_name, benchmark_portfolio, benchmark_portfolio_name)\n",
    "table = pd.merge(table, table_temp, how='left', left_index=True, right_index=True)\n",
    "\n",
    "port_return_gamma8['rf'] = 0\n",
    "port = port_return_gamma8\n",
    "port_column_name = 'gamma=8 (with tc.)'\n",
    "#benchmark_portfolio = True\n",
    "table_temp = portfolio_evaluation(port, port_name, benchmark_name, rf_name, port_column_name, benchmark_portfolio, benchmark_portfolio_name)\n",
    "table = pd.merge(table, table_temp, how='left', left_index=True, right_index=True)\n",
    "\n",
    "# print tables\n",
    "print(table)"
   ]
  },
  {
   "cell_type": "code",
   "execution_count": null,
   "id": "bcecc69d",
   "metadata": {},
   "outputs": [],
   "source": []
  }
 ],
 "metadata": {
  "kernelspec": {
   "display_name": "Python 3 (ipykernel)",
   "language": "python",
   "name": "python3"
  },
  "language_info": {
   "codemirror_mode": {
    "name": "ipython",
    "version": 3
   },
   "file_extension": ".py",
   "mimetype": "text/x-python",
   "name": "python",
   "nbconvert_exporter": "python",
   "pygments_lexer": "ipython3",
   "version": "3.9.12"
  }
 },
 "nbformat": 4,
 "nbformat_minor": 5
}
